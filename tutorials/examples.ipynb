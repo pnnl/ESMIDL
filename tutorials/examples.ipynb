{
 "cells": [
  {
   "cell_type": "code",
   "execution_count": 1,
   "metadata": {},
   "outputs": [],
   "source": [
    "import yaml\n",
    "import matplotlib.pyplot as plt\n",
    "import pandas as pd\n",
    "import numpy as np\n",
    "from sklearn.preprocessing import StandardScaler\n",
    "from doa.utils import create_dataset\n",
    "import os"
   ]
  },
  {
   "cell_type": "code",
   "execution_count": 54,
   "metadata": {},
   "outputs": [],
   "source": [
    "# df = pd.read_csv('sample_data/curated-solubility-dataset.csv')\n",
    "# dfn = df.sample(n=1200)\n",
    "# dfn.to_csv('sample_data/data.csv', index=False)\n",
    "\n",
    "# df = pd.read_csv('sample_data/des_data.csv')\n",
    "# train = df.iloc[:1000,:]\n",
    "# test = df.iloc[1000:,:]\n",
    "# set(test.smiles).intersection(train.smiles)\n",
    "\n",
    "# train.to_csv('sample_data/train.csv', index=False)\n",
    "# test.to_csv('sample_data/test.csv', index=False)"
   ]
  },
  {
   "cell_type": "markdown",
   "metadata": {},
   "source": [
    "# 1. Create molecular descriptors"
   ]
  },
  {
   "cell_type": "markdown",
   "metadata": {},
   "source": [
    "We can use Mordred to quickly generate a set of descriptors. We have provides a function in doa/utils to prepare a dataset in \n",
    "the form required by the res of the DoA calculations "
   ]
  },
  {
   "cell_type": "code",
   "execution_count": 57,
   "metadata": {
    "collapsed": true,
    "jupyter": {
     "outputs_hidden": true
    },
    "tags": []
   },
   "outputs": [
    {
     "name": "stderr",
     "output_type": "stream",
     "text": [
      "[10:32:06] WARNING: not removing hydrogen atom without neighbors\n",
      "[10:32:06] WARNING: not removing hydrogen atom without neighbors\n",
      "[10:32:06] WARNING: not removing hydrogen atom without neighbors\n",
      "[10:32:06] WARNING: not removing hydrogen atom without neighbors\n",
      "[10:32:06] WARNING: not removing hydrogen atom without neighbors\n",
      "[10:32:06] WARNING: not removing hydrogen atom without neighbors\n",
      "[10:32:06] WARNING: not removing hydrogen atom without neighbors\n",
      "[10:32:06] WARNING: not removing hydrogen atom without neighbors\n",
      "[10:32:06] WARNING: not removing hydrogen atom without neighbors\n",
      "[10:32:06] WARNING: not removing hydrogen atom without neighbors\n",
      "[10:32:06] WARNING: not removing hydrogen atom without neighbors\n",
      "[10:32:06] WARNING: not removing hydrogen atom without neighbors\n",
      "  0%|▏                                                                                       | 2/1200 [00:02<23:22,  1.17s/it][10:32:08] WARNING: not removing hydrogen atom without neighbors\n",
      "[10:32:08] WARNING: not removing hydrogen atom without neighbors\n",
      "[10:32:08] WARNING: not removing hydrogen atom without neighbors\n",
      "  1%|█▏                                                                                     | 16/1200 [00:02<02:05,  9.44it/s]"
     ]
    },
    {
     "name": "stdout",
     "output_type": "stream",
     "text": [
      "/people/pana982/.conda/envs/esmi38/lib/python3.8/site-packages/numpy/core/fromnumeric.py:87: RuntimeWarning: overflow encountered in reduce\n",
      "  return ufunc.reduce(obj, axis, dtype, out, **passkwargs)\n"
     ]
    },
    {
     "name": "stderr",
     "output_type": "stream",
     "text": [
      "  5%|████▎                                                                                  | 59/1200 [00:09<03:57,  4.81it/s]"
     ]
    },
    {
     "name": "stdout",
     "output_type": "stream",
     "text": [
      "/people/pana982/.conda/envs/esmi38/lib/python3.8/site-packages/numpy/core/fromnumeric.py:87: RuntimeWarning: overflow encountered in reduce\n",
      "  return ufunc.reduce(obj, axis, dtype, out, **passkwargs)\n"
     ]
    },
    {
     "name": "stderr",
     "output_type": "stream",
     "text": [
      " 12%|██████████▎                                                                           | 144/1200 [00:21<03:12,  5.50it/s][10:32:27] WARNING: not removing hydrogen atom without neighbors\n",
      "[10:32:27] WARNING: not removing hydrogen atom without neighbors\n",
      "[10:32:27] WARNING: not removing hydrogen atom without neighbors\n",
      "[10:32:27] WARNING: not removing hydrogen atom without neighbors\n",
      "[10:32:27] WARNING: not removing hydrogen atom without neighbors\n",
      "[10:32:27] WARNING: not removing hydrogen atom without neighbors\n",
      "[10:32:27] WARNING: not removing hydrogen atom without neighbors\n",
      "[10:32:27] WARNING: not removing hydrogen atom without neighbors\n",
      "[10:32:27] WARNING: not removing hydrogen atom without neighbors\n",
      " 19%|████████████████▎                                                                     | 227/1200 [00:37<06:41,  2.42it/s][10:32:44] WARNING: not removing hydrogen atom without neighbors\n",
      "[10:32:44] WARNING: not removing hydrogen atom without neighbors\n",
      "[10:32:44] WARNING: not removing hydrogen atom without neighbors\n"
     ]
    },
    {
     "name": "stdout",
     "output_type": "stream",
     "text": [
      "/people/pana982/.conda/envs/esmi38/lib/python3.8/site-packages/numpy/core/fromnumeric.py:87: RuntimeWarning: overflow encountered in reduce\n",
      "  return ufunc.reduce(obj, axis, dtype, out, **passkwargs)\n"
     ]
    },
    {
     "name": "stderr",
     "output_type": "stream",
     "text": [
      " 25%|█████████████████████▋                                                                | 302/1200 [00:44<03:21,  4.45it/s][10:32:50] WARNING: not removing hydrogen atom without neighbors\n",
      "[10:32:50] WARNING: not removing hydrogen atom without neighbors\n",
      "[10:32:50] WARNING: not removing hydrogen atom without neighbors\n",
      " 28%|███████████████████████▉                                                              | 334/1200 [00:50<02:29,  5.80it/s][10:32:57] WARNING: not removing hydrogen atom without neighbors\n",
      "[10:32:57] WARNING: not removing hydrogen atom without neighbors\n",
      "[10:32:57] WARNING: not removing hydrogen atom without neighbors\n",
      " 32%|███████████████████████████                                                           | 378/1200 [00:54<01:13, 11.20it/s][10:33:03] WARNING: not removing hydrogen atom without neighbors\n",
      "[10:33:03] WARNING: not removing hydrogen atom without neighbors\n",
      "[10:33:03] WARNING: not removing hydrogen atom without neighbors\n",
      " 32%|███████████████████████████▉                                                          | 389/1200 [00:57<02:16,  5.95it/s]"
     ]
    },
    {
     "name": "stdout",
     "output_type": "stream",
     "text": [
      "/people/pana982/.conda/envs/esmi38/lib/python3.8/site-packages/numpy/core/fromnumeric.py:87: RuntimeWarning: overflow encountered in reduce\n",
      "  return ufunc.reduce(obj, axis, dtype, out, **passkwargs)\n"
     ]
    },
    {
     "name": "stderr",
     "output_type": "stream",
     "text": [
      " 36%|███████████████████████████████▎                                                      | 437/1200 [01:08<02:20,  5.44it/s]"
     ]
    },
    {
     "name": "stdout",
     "output_type": "stream",
     "text": [
      "/people/pana982/.conda/envs/esmi38/lib/python3.8/site-packages/numpy/core/fromnumeric.py:87: RuntimeWarning: overflow encountered in reduce\n",
      "  return ufunc.reduce(obj, axis, dtype, out, **passkwargs)\n"
     ]
    },
    {
     "name": "stderr",
     "output_type": "stream",
     "text": [
      " 39%|█████████████████████████████████▊                                                    | 471/1200 [01:10<01:32,  7.90it/s]"
     ]
    },
    {
     "name": "stdout",
     "output_type": "stream",
     "text": [
      "/people/pana982/.conda/envs/esmi38/lib/python3.8/site-packages/numpy/core/fromnumeric.py:87: RuntimeWarning: overflow encountered in reduce\n",
      "  return ufunc.reduce(obj, axis, dtype, out, **passkwargs)\n"
     ]
    },
    {
     "name": "stderr",
     "output_type": "stream",
     "text": [
      " 43%|████████████████████████████████████▉                                                 | 516/1200 [01:20<03:18,  3.44it/s]"
     ]
    },
    {
     "name": "stdout",
     "output_type": "stream",
     "text": [
      "/people/pana982/.conda/envs/esmi38/lib/python3.8/site-packages/numpy/core/fromnumeric.py:87: RuntimeWarning: overflow encountered in reduce\n",
      "  return ufunc.reduce(obj, axis, dtype, out, **passkwargs)\n",
      "/people/pana982/.conda/envs/esmi38/lib/python3.8/site-packages/numpy/core/fromnumeric.py:87: RuntimeWarning: overflow encountered in reduce\n",
      "  return ufunc.reduce(obj, axis, dtype, out, **passkwargs)\n"
     ]
    },
    {
     "name": "stderr",
     "output_type": "stream",
     "text": [
      " 46%|███████████████████████████████████████▍                                              | 550/1200 [01:23<01:43,  6.26it/s][10:33:30] WARNING: not removing hydrogen atom without neighbors\n",
      "[10:33:30] WARNING: not removing hydrogen atom without neighbors\n",
      "[10:33:30] WARNING: not removing hydrogen atom without neighbors\n",
      " 47%|████████████████████████████████████████▋                                             | 568/1200 [01:24<01:05,  9.58it/s]"
     ]
    },
    {
     "name": "stdout",
     "output_type": "stream",
     "text": [
      "/people/pana982/.conda/envs/esmi38/lib/python3.8/site-packages/numpy/core/fromnumeric.py:87: RuntimeWarning: overflow encountered in reduce\n",
      "  return ufunc.reduce(obj, axis, dtype, out, **passkwargs)\n"
     ]
    },
    {
     "name": "stderr",
     "output_type": "stream",
     "text": [
      " 54%|██████████████████████████████████████████████▏                                       | 645/1200 [01:36<01:23,  6.66it/s]"
     ]
    },
    {
     "name": "stdout",
     "output_type": "stream",
     "text": [
      "/people/pana982/.conda/envs/esmi38/lib/python3.8/site-packages/numpy/core/fromnumeric.py:87: RuntimeWarning: overflow encountered in reduce\n",
      "  return ufunc.reduce(obj, axis, dtype, out, **passkwargs)\n"
     ]
    },
    {
     "name": "stderr",
     "output_type": "stream",
     "text": [
      " 57%|█████████████████████████████████████████████████▎                                    | 688/1200 [01:44<02:24,  3.55it/s]"
     ]
    },
    {
     "name": "stdout",
     "output_type": "stream",
     "text": [
      "/people/pana982/.conda/envs/esmi38/lib/python3.8/site-packages/numpy/core/fromnumeric.py:87: RuntimeWarning: overflow encountered in reduce\n",
      "  return ufunc.reduce(obj, axis, dtype, out, **passkwargs)\n"
     ]
    },
    {
     "name": "stderr",
     "output_type": "stream",
     "text": [
      " 62%|█████████████████████████████████████████████████████▊                                | 750/1200 [01:50<00:48,  9.21it/s]"
     ]
    },
    {
     "name": "stdout",
     "output_type": "stream",
     "text": [
      "/people/pana982/.conda/envs/esmi38/lib/python3.8/site-packages/numpy/core/fromnumeric.py:87: RuntimeWarning: overflow encountered in reduce\n",
      "  return ufunc.reduce(obj, axis, dtype, out, **passkwargs)\n"
     ]
    },
    {
     "name": "stderr",
     "output_type": "stream",
     "text": [
      " 64%|███████████████████████████████████████████████████████                               | 769/1200 [01:53<01:02,  6.91it/s][10:34:00] WARNING: not removing hydrogen atom without neighbors\n",
      "[10:34:00] WARNING: not removing hydrogen atom without neighbors\n",
      "[10:34:00] WARNING: not removing hydrogen atom without neighbors\n",
      "[10:34:00] WARNING: not removing hydrogen atom without neighbors\n",
      "[10:34:00] WARNING: not removing hydrogen atom without neighbors\n",
      "[10:34:00] WARNING: not removing hydrogen atom without neighbors\n",
      " 66%|████████████████████████████████████████████████████████▌                             | 789/1200 [01:57<00:51,  7.92it/s]"
     ]
    },
    {
     "name": "stdout",
     "output_type": "stream",
     "text": [
      "/people/pana982/.conda/envs/esmi38/lib/python3.8/site-packages/numpy/core/fromnumeric.py:87: RuntimeWarning: overflow encountered in reduce\n",
      "  return ufunc.reduce(obj, axis, dtype, out, **passkwargs)\n"
     ]
    },
    {
     "name": "stderr",
     "output_type": "stream",
     "text": [
      " 67%|█████████████████████████████████████████████████████████▋                            | 805/1200 [02:00<01:56,  3.39it/s]"
     ]
    },
    {
     "name": "stdout",
     "output_type": "stream",
     "text": [
      "/people/pana982/.conda/envs/esmi38/lib/python3.8/site-packages/numpy/core/fromnumeric.py:87: RuntimeWarning: overflow encountered in reduce\n",
      "  return ufunc.reduce(obj, axis, dtype, out, **passkwargs)\n"
     ]
    },
    {
     "name": "stderr",
     "output_type": "stream",
     "text": [
      " 87%|██████████████████████████████████████████████████████████████████████████           | 1045/1200 [02:38<00:31,  4.95it/s]"
     ]
    },
    {
     "name": "stdout",
     "output_type": "stream",
     "text": [
      "/people/pana982/.conda/envs/esmi38/lib/python3.8/site-packages/numpy/core/fromnumeric.py:87: RuntimeWarning: overflow encountered in reduce\n",
      "  return ufunc.reduce(obj, axis, dtype, out, **passkwargs)\n"
     ]
    },
    {
     "name": "stderr",
     "output_type": "stream",
     "text": [
      " 89%|███████████████████████████████████████████████████████████████████████████▌         | 1066/1200 [02:40<00:17,  7.84it/s][10:34:46] WARNING: not removing hydrogen atom without neighbors\n",
      "[10:34:46] WARNING: not removing hydrogen atom without neighbors\n",
      "[10:34:46] WARNING: not removing hydrogen atom without neighbors\n",
      "100%|█████████████████████████████████████████████████████████████████████████████████████| 1200/1200 [02:59<00:00,  6.68it/s]\n",
      "/people/pana982/.local/lib/python3.8/site-packages/sklearn/utils/extmath.py:986: RuntimeWarning: invalid value encountered in true_divide\n",
      "  updated_mean = (last_sum + new_sum) / updated_sample_count\n",
      "/people/pana982/.local/lib/python3.8/site-packages/sklearn/utils/extmath.py:991: RuntimeWarning: invalid value encountered in true_divide\n",
      "  T = new_sum / new_sample_count\n",
      "/people/pana982/.local/lib/python3.8/site-packages/sklearn/utils/extmath.py:1021: RuntimeWarning: invalid value encountered in true_divide\n",
      "  new_unnormalized_variance -= correction ** 2 / new_sample_count\n"
     ]
    }
   ],
   "source": [
    "_  = create_dataset(csv_path='sample_data/data.csv', \n",
    "                smiles_column='SMILES',\n",
    "                logs_column='Solubility', \n",
    "                save_path='sample_data/des_data.csv')"
   ]
  },
  {
   "cell_type": "markdown",
   "metadata": {},
   "source": [
    "The descriptors will be saved to 'sample_data/des_data.csv'"
   ]
  },
  {
   "cell_type": "markdown",
   "metadata": {},
   "source": [
    "# Outlier detection"
   ]
  },
  {
   "cell_type": "markdown",
   "metadata": {},
   "source": [
    "Execute the following command to run a large number of ML models to find the prediction errors made for each molecule"
   ]
  },
  {
   "cell_type": "code",
   "execution_count": 68,
   "metadata": {
    "collapsed": true,
    "jupyter": {
     "outputs_hidden": true
    },
    "tags": []
   },
   "outputs": [
    {
     "name": "stdout",
     "output_type": "stream",
     "text": [
      "/people/pana982/.local/lib/python3.8/site-packages/scipy/__init__.py:146: UserWarning: A NumPy version >=1.16.5 and <1.23.0 is required for this version of SciPy (detected version 1.23.4\n",
      "  warnings.warn(f\"A NumPy version >={np_minversion} and <{np_maxversion}\"\n",
      "outlier detection using extratrees regression\n",
      "100%|█████████████████████████████████████████| 250/250 [33:15<00:00,  7.98s/it]\n"
     ]
    }
   ],
   "source": [
    "!python ../scripts/run_models.py --config ../scripts/configs/main.yaml --run-id=1"
   ]
  },
  {
   "cell_type": "markdown",
   "metadata": {},
   "source": [
    "Once completed, we will have \"smiles_error_et_{i}.pkl\" files in the folder specified by \"res_path\" in the configuration file (i.e ../scripts/configs/main.yaml)."
   ]
  },
  {
   "cell_type": "markdown",
   "metadata": {},
   "source": [
    "Next we have to determine how to seperate outliers and inliers. After ordering the molecules in the descending order of the outliernerss, we select n percentage of molecules having the largest outlierness scores as outliers and the others as inliers. Using the selected non outliers, we do cross validated prediction of the target property and obtain the mean prediction accuracies (RMSE, R2). We repeat this process for several n values (0.95 to to 0.65). The following command executes this procedeure."
   ]
  },
  {
   "cell_type": "code",
   "execution_count": 69,
   "metadata": {
    "tags": []
   },
   "outputs": [
    {
     "name": "stdout",
     "output_type": "stream",
     "text": [
      "/people/pana982/.local/lib/python3.8/site-packages/scipy/__init__.py:146: UserWarning: A NumPy version >=1.16.5 and <1.23.0 is required for this version of SciPy (detected version 1.23.4\n",
      "  warnings.warn(f\"A NumPy version >={np_minversion} and <{np_maxversion}\"\n",
      "min : 13 mean:  25.0 sdev:  4.760672221441002\n",
      "percent:  0.95\n",
      "percent:  0.9\n",
      "percent:  0.85\n",
      "percent:  0.8\n",
      "percent:  0.75\n",
      "percent:  0.7\n",
      "percent:  0.65\n"
     ]
    }
   ],
   "source": [
    "!python ../scripts/post_process.py  --config ../scripts/configs/main.yaml"
   ]
  },
  {
   "cell_type": "markdown",
   "metadata": {},
   "source": [
    "Using the \"find_olpercent\" function, we can obtain R2 scores corresponding to different n values."
   ]
  },
  {
   "cell_type": "code",
   "execution_count": 70,
   "metadata": {},
   "outputs": [],
   "source": [
    "from doa.detect import find_olpercent\n",
    "opt = yaml.load(open('../scripts/configs/main.yaml'), Loader=yaml.FullLoader)\n",
    "olp_versus_r2, enpls, df = find_olpercent(data_path=opt['data_path'], res_path=opt['res_path'], \n",
    "                                          rerun_threshold_detection=False)"
   ]
  },
  {
   "cell_type": "markdown",
   "metadata": {},
   "source": [
    "This is our results. We see that as the outlier percentage (olp) increases, we get better R2, RMSE values for the corresponding inliers."
   ]
  },
  {
   "cell_type": "code",
   "execution_count": 71,
   "metadata": {},
   "outputs": [
    {
     "data": {
      "text/html": [
       "<div>\n",
       "<style scoped>\n",
       "    .dataframe tbody tr th:only-of-type {\n",
       "        vertical-align: middle;\n",
       "    }\n",
       "\n",
       "    .dataframe tbody tr th {\n",
       "        vertical-align: top;\n",
       "    }\n",
       "\n",
       "    .dataframe thead th {\n",
       "        text-align: right;\n",
       "    }\n",
       "</style>\n",
       "<table border=\"1\" class=\"dataframe\">\n",
       "  <thead>\n",
       "    <tr style=\"text-align: right;\">\n",
       "      <th></th>\n",
       "      <th>r2</th>\n",
       "      <th>rmse</th>\n",
       "      <th>olp</th>\n",
       "      <th>prolp</th>\n",
       "    </tr>\n",
       "  </thead>\n",
       "  <tbody>\n",
       "    <tr>\n",
       "      <th>0</th>\n",
       "      <td>0.858408</td>\n",
       "      <td>0.854682</td>\n",
       "      <td>5.0</td>\n",
       "      <td>0</td>\n",
       "    </tr>\n",
       "    <tr>\n",
       "      <th>1</th>\n",
       "      <td>0.867295</td>\n",
       "      <td>0.801132</td>\n",
       "      <td>10.0</td>\n",
       "      <td>1</td>\n",
       "    </tr>\n",
       "    <tr>\n",
       "      <th>2</th>\n",
       "      <td>0.884076</td>\n",
       "      <td>0.731742</td>\n",
       "      <td>15.0</td>\n",
       "      <td>2</td>\n",
       "    </tr>\n",
       "    <tr>\n",
       "      <th>3</th>\n",
       "      <td>0.894372</td>\n",
       "      <td>0.682719</td>\n",
       "      <td>20.0</td>\n",
       "      <td>3</td>\n",
       "    </tr>\n",
       "    <tr>\n",
       "      <th>4</th>\n",
       "      <td>0.904112</td>\n",
       "      <td>0.638319</td>\n",
       "      <td>25.0</td>\n",
       "      <td>4</td>\n",
       "    </tr>\n",
       "    <tr>\n",
       "      <th>5</th>\n",
       "      <td>0.912949</td>\n",
       "      <td>0.601790</td>\n",
       "      <td>30.0</td>\n",
       "      <td>5</td>\n",
       "    </tr>\n",
       "    <tr>\n",
       "      <th>6</th>\n",
       "      <td>0.923747</td>\n",
       "      <td>0.554798</td>\n",
       "      <td>35.0</td>\n",
       "      <td>6</td>\n",
       "    </tr>\n",
       "  </tbody>\n",
       "</table>\n",
       "</div>"
      ],
      "text/plain": [
       "         r2      rmse   olp  prolp\n",
       "0  0.858408  0.854682   5.0      0\n",
       "1  0.867295  0.801132  10.0      1\n",
       "2  0.884076  0.731742  15.0      2\n",
       "3  0.894372  0.682719  20.0      3\n",
       "4  0.904112  0.638319  25.0      4\n",
       "5  0.912949  0.601790  30.0      5\n",
       "6  0.923747  0.554798  35.0      6"
      ]
     },
     "execution_count": 71,
     "metadata": {},
     "output_type": "execute_result"
    }
   ],
   "source": [
    "olp_versus_r2"
   ]
  },
  {
   "cell_type": "code",
   "execution_count": 72,
   "metadata": {},
   "outputs": [
    {
     "data": {
      "image/png": "[encoded data removed]",
      "text/plain": [
       "<Figure size 432x288 with 1 Axes>"
      ]
     },
     "metadata": {
      "needs_background": "light"
     },
     "output_type": "display_data"
    }
   ],
   "source": [
    "plt.plot(olp_versus_r2.olp, olp_versus_r2.r2,  color='#5D6D7E', marker='o', ls='-', lw=3);\n",
    "# plt.plot(m4.olp, m4.r2, 'o-', color='orange', label='ol-ness sdev away');\n",
    "\n",
    "plt.ylabel(\"R2\", fontsize=14, fontweight='bold')\n",
    "plt.xlabel(\"Outlier Percentage\", fontsize=14, fontweight='bold')\n",
    "plt.xticks(fontsize=10, fontweight='bold');\n",
    "plt.yticks(fontsize=10, fontweight='bold');"
   ]
  },
  {
   "cell_type": "markdown",
   "metadata": {},
   "source": [
    "Now we have to determine which R2 score value which use to seperate outliers and inliers. The molecules giving a R2 score greater than this value will be considered as non outliers and the others will be outliers."
   ]
  },
  {
   "cell_type": "code",
   "execution_count": 73,
   "metadata": {},
   "outputs": [],
   "source": [
    "r2_threshold = 0.90"
   ]
  },
  {
   "cell_type": "code",
   "execution_count": 74,
   "metadata": {},
   "outputs": [
    {
     "name": "stdout",
     "output_type": "stream",
     "text": [
      "25.0\n",
      "4\n"
     ]
    }
   ],
   "source": [
    "print(olp_versus_r2.loc[np.where((olp_versus_r2.r2> r2_threshold ))[0][0], 'olp'])\n",
    "th_file_id = olp_versus_r2.loc[np.where((olp_versus_r2.r2> r2_threshold ))[0][0], 'prolp']\n",
    "print(th_file_id)"
   ]
  },
  {
   "cell_type": "code",
   "execution_count": 75,
   "metadata": {},
   "outputs": [],
   "source": [
    "from doa.utils import save_ols"
   ]
  },
  {
   "cell_type": "code",
   "execution_count": 76,
   "metadata": {},
   "outputs": [],
   "source": [
    "save_ols(opt['res_path'], th_file_id)"
   ]
  },
  {
   "cell_type": "markdown",
   "metadata": {},
   "source": [
    "# Feature based filtering"
   ]
  },
  {
   "cell_type": "markdown",
   "metadata": {},
   "source": [
    "### Get the DoA table"
   ]
  },
  {
   "cell_type": "code",
   "execution_count": 77,
   "metadata": {},
   "outputs": [],
   "source": [
    "from doa import doa"
   ]
  },
  {
   "cell_type": "code",
   "execution_count": 79,
   "metadata": {},
   "outputs": [],
   "source": [
    "errors = pd.read_csv('results/runs/errors.csv')\n",
    "df_ol = pd.read_csv(os.path.join(opt['res_path'], 'outliers.csv'))\n",
    "df_nol = pd.read_csv(os.path.join(opt['res_path'], 'non_outliers.csv'))\n",
    "all_data = pd.read_csv(opt['data_path'])"
   ]
  },
  {
   "cell_type": "code",
   "execution_count": null,
   "metadata": {},
   "outputs": [],
   "source": []
  },
  {
   "cell_type": "code",
   "execution_count": 84,
   "metadata": {},
   "outputs": [],
   "source": [
    "doa_obj = doa.find_th(ol=df_ol, nol=df_nol, all_data=all_data, enpls=errors)\n",
    "# remove features that more than 0.95 correlated\n",
    "new_th = doa_obj.remove_corr_from_propth(0.95)\n",
    "    # get the domain of applicability tables\n",
    "doa_orig, doa_olness = doa_obj.get_doa_table()\n",
    "doa_obj.save_data(opt['res_path'])\n",
    "# #ols => number of outliers in all_data (train+val)\n",
    "doa_olness['all_out_pcnt'] = doa_olness['#ols']/all_data.shape[0]"
   ]
  },
  {
   "cell_type": "code",
   "execution_count": 86,
   "metadata": {},
   "outputs": [],
   "source": [
    "# print(doa_olness.loc[:20, ['prop', 'threshold', 'direction', 'all_out_pcnt']].to_latex(index=False, float_format='%.3f'))"
   ]
  },
  {
   "cell_type": "code",
   "execution_count": 87,
   "metadata": {},
   "outputs": [
    {
     "name": "stdout",
     "output_type": "stream",
     "text": [
      "| prop        |   threshold | direction   |   all_out_pcnt |\n",
      "|:------------|------------:|:------------|---------------:|\n",
      "| IC0         |    0.657481 | >=          |          0.002 |\n",
      "| IC1         |    0.814787 | >=          |          0.004 |\n",
      "| Mpe         |    0.86574  | >=          |          0.003 |\n",
      "| IC2         |    1.60164  | >=          |          0.023 |\n",
      "| IC3         |    1.81215  | >=          |          0.028 |\n",
      "| Mi          |    1.07587  | >=          |          0.028 |\n",
      "| AATS0dv     |   16.6811   | <=          |          0.036 |\n",
      "| ATSC3d      |    7.94068  | <=          |          0.013 |\n",
      "| ATSC1v      | -299.8      | >=          |          0.029 |\n",
      "| bpol        |   47.9571   | <=          |          0.048 |\n",
      "| ATSC1p      |   -2.37158  | >=          |          0.054 |\n",
      "| ATSC1m      | -178.072    | >=          |          0.027 |\n",
      "| AATSC0dv    |    7.06984  | <=          |          0.031 |\n",
      "| SaaCH       |   22.3919   | <=          |          0.025 |\n",
      "| CIC0        |    1.09343  | >=          |          0.016 |\n",
      "| SRW02       |    1.96951  | >=          |          0.031 |\n",
      "| EState_VSA4 |   40.7088   | <=          |          0.026 |\n",
      "| JGT10       |    0.810467 | <=          |          0.006 |\n",
      "| MIC1        |   52.9009   | <=          |          0.023 |\n",
      "| SlogP_VSA3  |   32.1041   | <=          |          0.032 |\n",
      "| Mv          |    0.874254 | <=          |          0.044 |\n"
     ]
    }
   ],
   "source": [
    "print(doa_olness.loc[:20, ['prop', 'threshold', 'direction', 'all_out_pcnt']].to_markdown(index=False))"
   ]
  },
  {
   "cell_type": "markdown",
   "metadata": {},
   "source": [
    "### Run feature based filtering"
   ]
  },
  {
   "cell_type": "code",
   "execution_count": 89,
   "metadata": {},
   "outputs": [],
   "source": [
    "train = pd.read_csv(opt['data_path'])\n",
    "test = pd.read_csv('sample_data/test.csv')"
   ]
  },
  {
   "cell_type": "code",
   "execution_count": 91,
   "metadata": {},
   "outputs": [],
   "source": [
    "from doa.fbf import fbf_results"
   ]
  },
  {
   "cell_type": "code",
   "execution_count": 93,
   "metadata": {},
   "outputs": [],
   "source": [
    "# create the object\n",
    "fbf_obj = fbf_results(df_ref=train, df_train=train, df_test=test, save_path=opt['res_path'])\n",
    "# train a model using train set\n",
    "model, scaler, features = fbf_obj.get_model_scaler()\n",
    "# do feature based filtering\n",
    "doa_results, all_outsmiles, ol_test_smiles = fbf_obj.get_doa_results(doa=doa_olness, r2_th=.95)\n",
    "doa_results['n_test_percent'] = 100*doa_results['n_test_ols']/train.shape[0]"
   ]
  },
  {
   "cell_type": "code",
   "execution_count": 100,
   "metadata": {},
   "outputs": [
    {
     "data": {
      "image/png": "[encoded data removed]",
      "text/plain": [
       "<Figure size 576x360 with 1 Axes>"
      ]
     },
     "metadata": {
      "needs_background": "light"
     },
     "output_type": "display_data"
    }
   ],
   "source": [
    "plt.figure(figsize = (8,5));\n",
    "plt.plot(doa_results.n_test_percent, doa_results.rmse,  color='#5499C7', ls='-', marker='o', label = 'Domain based Filtering');\n",
    "plt.xlabel('Percentage of molecules removed from test set', fontsize=16, fontweight='bold');\n",
    "plt.ylabel('RMSE', fontsize=16, fontweight='bold');"
   ]
  },
  {
   "cell_type": "code",
   "execution_count": null,
   "metadata": {},
   "outputs": [],
   "source": []
  },
  {
   "cell_type": "code",
   "execution_count": null,
   "metadata": {},
   "outputs": [],
   "source": []
  },
  {
   "cell_type": "code",
   "execution_count": 16,
   "metadata": {},
   "outputs": [],
   "source": [
    "# def save_ols(res_path, th_file_id):\n",
    "#     ols_path = os.path.join(res_path, 'ol_thresh_res')\n",
    "#     df_ol = pd.read_csv(f\"{ols_path}/outliers_olness_p{th_file_id}.csv\")\n",
    "#     df_nol = pd.read_csv(f\"{ols_path}/non_outliers_olness_p{th_file_id}.csv\")\n",
    "\n",
    "#     df_ol.to_csv(f'{res_path}/outliers.csv', index=False)\n",
    "#     df_nol.to_csv(f'{res_path}/non_outliers.csv', index=False)"
   ]
  },
  {
   "cell_type": "code",
   "execution_count": 10,
   "metadata": {},
   "outputs": [],
   "source": [
    "import os "
   ]
  },
  {
   "cell_type": "code",
   "execution_count": 12,
   "metadata": {},
   "outputs": [],
   "source": []
  },
  {
   "cell_type": "code",
   "execution_count": 13,
   "metadata": {},
   "outputs": [],
   "source": [
    "th_file_id=4"
   ]
  },
  {
   "cell_type": "code",
   "execution_count": 14,
   "metadata": {},
   "outputs": [],
   "source": []
  },
  {
   "cell_type": "code",
   "execution_count": 15,
   "metadata": {},
   "outputs": [
    {
     "data": {
      "text/html": [
       "<div>\n",
       "<style scoped>\n",
       "    .dataframe tbody tr th:only-of-type {\n",
       "        vertical-align: middle;\n",
       "    }\n",
       "\n",
       "    .dataframe tbody tr th {\n",
       "        vertical-align: top;\n",
       "    }\n",
       "\n",
       "    .dataframe thead th {\n",
       "        text-align: right;\n",
       "    }\n",
       "</style>\n",
       "<table border=\"1\" class=\"dataframe\">\n",
       "  <thead>\n",
       "    <tr style=\"text-align: right;\">\n",
       "      <th></th>\n",
       "      <th>ABC</th>\n",
       "      <th>ABCGG</th>\n",
       "      <th>nAcid</th>\n",
       "      <th>nBase</th>\n",
       "      <th>nAromAtom</th>\n",
       "      <th>nAromBond</th>\n",
       "      <th>nAtom</th>\n",
       "      <th>nHeavyAtom</th>\n",
       "      <th>nSpiro</th>\n",
       "      <th>nBridgehead</th>\n",
       "      <th>...</th>\n",
       "      <th>TSRW10</th>\n",
       "      <th>MW</th>\n",
       "      <th>AMW</th>\n",
       "      <th>WPath</th>\n",
       "      <th>WPol</th>\n",
       "      <th>Zagreb1</th>\n",
       "      <th>Zagreb2</th>\n",
       "      <th>mZagreb2</th>\n",
       "      <th>smiles</th>\n",
       "      <th>log_sol</th>\n",
       "    </tr>\n",
       "  </thead>\n",
       "  <tbody>\n",
       "    <tr>\n",
       "      <th>0</th>\n",
       "      <td>8.554231</td>\n",
       "      <td>7.309128</td>\n",
       "      <td>0</td>\n",
       "      <td>0</td>\n",
       "      <td>10</td>\n",
       "      <td>11</td>\n",
       "      <td>17</td>\n",
       "      <td>11</td>\n",
       "      <td>0</td>\n",
       "      <td>0</td>\n",
       "      <td>...</td>\n",
       "      <td>41.498380</td>\n",
       "      <td>146.059246</td>\n",
       "      <td>8.591720</td>\n",
       "      <td>144</td>\n",
       "      <td>14</td>\n",
       "      <td>56.0</td>\n",
       "      <td>64.0</td>\n",
       "      <td>2.444444</td>\n",
       "      <td>Cc1ncc2nccnc2n1</td>\n",
       "      <td>-0.119100</td>\n",
       "    </tr>\n",
       "    <tr>\n",
       "      <th>1</th>\n",
       "      <td>16.130564</td>\n",
       "      <td>13.378913</td>\n",
       "      <td>0</td>\n",
       "      <td>0</td>\n",
       "      <td>10</td>\n",
       "      <td>11</td>\n",
       "      <td>43</td>\n",
       "      <td>21</td>\n",
       "      <td>0</td>\n",
       "      <td>0</td>\n",
       "      <td>...</td>\n",
       "      <td>54.845496</td>\n",
       "      <td>286.156895</td>\n",
       "      <td>6.654812</td>\n",
       "      <td>986</td>\n",
       "      <td>31</td>\n",
       "      <td>108.0</td>\n",
       "      <td>123.0</td>\n",
       "      <td>4.541667</td>\n",
       "      <td>COC1=CC2=C(C=C1)C=C(C(C)C(=O)OC(C)(C)C)C=C2</td>\n",
       "      <td>-6.500000</td>\n",
       "    </tr>\n",
       "    <tr>\n",
       "      <th>2</th>\n",
       "      <td>0.000000</td>\n",
       "      <td>0.000000</td>\n",
       "      <td>1</td>\n",
       "      <td>1</td>\n",
       "      <td>0</td>\n",
       "      <td>0</td>\n",
       "      <td>3</td>\n",
       "      <td>2</td>\n",
       "      <td>0</td>\n",
       "      <td>0</td>\n",
       "      <td>...</td>\n",
       "      <td>2.000000</td>\n",
       "      <td>55.969665</td>\n",
       "      <td>18.656555</td>\n",
       "      <td>100000000</td>\n",
       "      <td>0</td>\n",
       "      <td>0.0</td>\n",
       "      <td>0.0</td>\n",
       "      <td>0.000000</td>\n",
       "      <td>[Na+].[SH-]</td>\n",
       "      <td>0.990089</td>\n",
       "    </tr>\n",
       "    <tr>\n",
       "      <th>3</th>\n",
       "      <td>0.000000</td>\n",
       "      <td>0.000000</td>\n",
       "      <td>1</td>\n",
       "      <td>1</td>\n",
       "      <td>0</td>\n",
       "      <td>0</td>\n",
       "      <td>3</td>\n",
       "      <td>2</td>\n",
       "      <td>0</td>\n",
       "      <td>0</td>\n",
       "      <td>...</td>\n",
       "      <td>2.000000</td>\n",
       "      <td>149.908192</td>\n",
       "      <td>49.969397</td>\n",
       "      <td>100000000</td>\n",
       "      <td>0</td>\n",
       "      <td>0.0</td>\n",
       "      <td>0.0</td>\n",
       "      <td>0.000000</td>\n",
       "      <td>[OH-].[Cs+]</td>\n",
       "      <td>0.824164</td>\n",
       "    </tr>\n",
       "    <tr>\n",
       "      <th>4</th>\n",
       "      <td>28.164816</td>\n",
       "      <td>22.676732</td>\n",
       "      <td>2</td>\n",
       "      <td>2</td>\n",
       "      <td>18</td>\n",
       "      <td>18</td>\n",
       "      <td>69</td>\n",
       "      <td>38</td>\n",
       "      <td>0</td>\n",
       "      <td>0</td>\n",
       "      <td>...</td>\n",
       "      <td>74.894538</td>\n",
       "      <td>566.152123</td>\n",
       "      <td>8.205103</td>\n",
       "      <td>3700004216</td>\n",
       "      <td>64</td>\n",
       "      <td>192.0</td>\n",
       "      <td>226.0</td>\n",
       "      <td>8.250000</td>\n",
       "      <td>[Na+].CCN(CC)c1ccc(cc1)[C+](c2ccc(cc2)N(CC)CC)...</td>\n",
       "      <td>-0.406689</td>\n",
       "    </tr>\n",
       "    <tr>\n",
       "      <th>...</th>\n",
       "      <td>...</td>\n",
       "      <td>...</td>\n",
       "      <td>...</td>\n",
       "      <td>...</td>\n",
       "      <td>...</td>\n",
       "      <td>...</td>\n",
       "      <td>...</td>\n",
       "      <td>...</td>\n",
       "      <td>...</td>\n",
       "      <td>...</td>\n",
       "      <td>...</td>\n",
       "      <td>...</td>\n",
       "      <td>...</td>\n",
       "      <td>...</td>\n",
       "      <td>...</td>\n",
       "      <td>...</td>\n",
       "      <td>...</td>\n",
       "      <td>...</td>\n",
       "      <td>...</td>\n",
       "      <td>...</td>\n",
       "      <td>...</td>\n",
       "    </tr>\n",
       "    <tr>\n",
       "      <th>245</th>\n",
       "      <td>26.067060</td>\n",
       "      <td>21.457796</td>\n",
       "      <td>0</td>\n",
       "      <td>1</td>\n",
       "      <td>6</td>\n",
       "      <td>6</td>\n",
       "      <td>60</td>\n",
       "      <td>33</td>\n",
       "      <td>0</td>\n",
       "      <td>0</td>\n",
       "      <td>...</td>\n",
       "      <td>70.433553</td>\n",
       "      <td>457.184900</td>\n",
       "      <td>7.619748</td>\n",
       "      <td>2672</td>\n",
       "      <td>75</td>\n",
       "      <td>188.0</td>\n",
       "      <td>239.0</td>\n",
       "      <td>6.972222</td>\n",
       "      <td>CN(C)C1C2CC3CC4=C(C=CC(=C4C(=O)C3=C(O)C2(O)C(=...</td>\n",
       "      <td>-0.940000</td>\n",
       "    </tr>\n",
       "    <tr>\n",
       "      <th>246</th>\n",
       "      <td>5.496696</td>\n",
       "      <td>5.754673</td>\n",
       "      <td>2</td>\n",
       "      <td>3</td>\n",
       "      <td>0</td>\n",
       "      <td>0</td>\n",
       "      <td>17</td>\n",
       "      <td>9</td>\n",
       "      <td>0</td>\n",
       "      <td>0</td>\n",
       "      <td>...</td>\n",
       "      <td>33.704756</td>\n",
       "      <td>136.059640</td>\n",
       "      <td>8.003508</td>\n",
       "      <td>2000000027</td>\n",
       "      <td>2</td>\n",
       "      <td>28.0</td>\n",
       "      <td>23.0</td>\n",
       "      <td>2.333333</td>\n",
       "      <td>NN=C(N)N.OC(O)=O</td>\n",
       "      <td>-1.615379</td>\n",
       "    </tr>\n",
       "    <tr>\n",
       "      <th>247</th>\n",
       "      <td>21.505581</td>\n",
       "      <td>17.416792</td>\n",
       "      <td>0</td>\n",
       "      <td>0</td>\n",
       "      <td>9</td>\n",
       "      <td>10</td>\n",
       "      <td>36</td>\n",
       "      <td>27</td>\n",
       "      <td>0</td>\n",
       "      <td>0</td>\n",
       "      <td>...</td>\n",
       "      <td>77.128343</td>\n",
       "      <td>367.055283</td>\n",
       "      <td>10.195980</td>\n",
       "      <td>1669</td>\n",
       "      <td>49</td>\n",
       "      <td>150.0</td>\n",
       "      <td>183.0</td>\n",
       "      <td>5.750000</td>\n",
       "      <td>O=C1NC(=O)C(C(=O)N1)=C2NC(c3ccccc23)=C4C(=O)NC...</td>\n",
       "      <td>-7.564994</td>\n",
       "    </tr>\n",
       "    <tr>\n",
       "      <th>248</th>\n",
       "      <td>8.898979</td>\n",
       "      <td>8.883053</td>\n",
       "      <td>0</td>\n",
       "      <td>0</td>\n",
       "      <td>6</td>\n",
       "      <td>6</td>\n",
       "      <td>30</td>\n",
       "      <td>12</td>\n",
       "      <td>0</td>\n",
       "      <td>0</td>\n",
       "      <td>...</td>\n",
       "      <td>43.309911</td>\n",
       "      <td>162.140851</td>\n",
       "      <td>5.404695</td>\n",
       "      <td>174</td>\n",
       "      <td>21</td>\n",
       "      <td>60.0</td>\n",
       "      <td>72.0</td>\n",
       "      <td>2.666667</td>\n",
       "      <td>CC1=C(C)C(=C(C)C(=C1C)C)C</td>\n",
       "      <td>-5.230000</td>\n",
       "    </tr>\n",
       "    <tr>\n",
       "      <th>249</th>\n",
       "      <td>0.000000</td>\n",
       "      <td>0.000000</td>\n",
       "      <td>1</td>\n",
       "      <td>1</td>\n",
       "      <td>0</td>\n",
       "      <td>0</td>\n",
       "      <td>3</td>\n",
       "      <td>3</td>\n",
       "      <td>0</td>\n",
       "      <td>0</td>\n",
       "      <td>...</td>\n",
       "      <td>8.493061</td>\n",
       "      <td>64.966781</td>\n",
       "      <td>21.655594</td>\n",
       "      <td>200000001</td>\n",
       "      <td>0</td>\n",
       "      <td>2.0</td>\n",
       "      <td>1.0</td>\n",
       "      <td>1.000000</td>\n",
       "      <td>[K+].[C-]#N</td>\n",
       "      <td>1.043600</td>\n",
       "    </tr>\n",
       "  </tbody>\n",
       "</table>\n",
       "<p>250 rows × 723 columns</p>\n",
       "</div>"
      ],
      "text/plain": [
       "           ABC      ABCGG  nAcid  nBase  nAromAtom  nAromBond  nAtom  \\\n",
       "0     8.554231   7.309128      0      0         10         11     17   \n",
       "1    16.130564  13.378913      0      0         10         11     43   \n",
       "2     0.000000   0.000000      1      1          0          0      3   \n",
       "3     0.000000   0.000000      1      1          0          0      3   \n",
       "4    28.164816  22.676732      2      2         18         18     69   \n",
       "..         ...        ...    ...    ...        ...        ...    ...   \n",
       "245  26.067060  21.457796      0      1          6          6     60   \n",
       "246   5.496696   5.754673      2      3          0          0     17   \n",
       "247  21.505581  17.416792      0      0          9         10     36   \n",
       "248   8.898979   8.883053      0      0          6          6     30   \n",
       "249   0.000000   0.000000      1      1          0          0      3   \n",
       "\n",
       "     nHeavyAtom  nSpiro  nBridgehead  ...     TSRW10          MW        AMW  \\\n",
       "0            11       0            0  ...  41.498380  146.059246   8.591720   \n",
       "1            21       0            0  ...  54.845496  286.156895   6.654812   \n",
       "2             2       0            0  ...   2.000000   55.969665  18.656555   \n",
       "3             2       0            0  ...   2.000000  149.908192  49.969397   \n",
       "4            38       0            0  ...  74.894538  566.152123   8.205103   \n",
       "..          ...     ...          ...  ...        ...         ...        ...   \n",
       "245          33       0            0  ...  70.433553  457.184900   7.619748   \n",
       "246           9       0            0  ...  33.704756  136.059640   8.003508   \n",
       "247          27       0            0  ...  77.128343  367.055283  10.195980   \n",
       "248          12       0            0  ...  43.309911  162.140851   5.404695   \n",
       "249           3       0            0  ...   8.493061   64.966781  21.655594   \n",
       "\n",
       "          WPath  WPol  Zagreb1  Zagreb2  mZagreb2  \\\n",
       "0           144    14     56.0     64.0  2.444444   \n",
       "1           986    31    108.0    123.0  4.541667   \n",
       "2     100000000     0      0.0      0.0  0.000000   \n",
       "3     100000000     0      0.0      0.0  0.000000   \n",
       "4    3700004216    64    192.0    226.0  8.250000   \n",
       "..          ...   ...      ...      ...       ...   \n",
       "245        2672    75    188.0    239.0  6.972222   \n",
       "246  2000000027     2     28.0     23.0  2.333333   \n",
       "247        1669    49    150.0    183.0  5.750000   \n",
       "248         174    21     60.0     72.0  2.666667   \n",
       "249   200000001     0      2.0      1.0  1.000000   \n",
       "\n",
       "                                                smiles   log_sol  \n",
       "0                                      Cc1ncc2nccnc2n1 -0.119100  \n",
       "1          COC1=CC2=C(C=C1)C=C(C(C)C(=O)OC(C)(C)C)C=C2 -6.500000  \n",
       "2                                          [Na+].[SH-]  0.990089  \n",
       "3                                          [OH-].[Cs+]  0.824164  \n",
       "4    [Na+].CCN(CC)c1ccc(cc1)[C+](c2ccc(cc2)N(CC)CC)... -0.406689  \n",
       "..                                                 ...       ...  \n",
       "245  CN(C)C1C2CC3CC4=C(C=CC(=C4C(=O)C3=C(O)C2(O)C(=... -0.940000  \n",
       "246                                   NN=C(N)N.OC(O)=O -1.615379  \n",
       "247  O=C1NC(=O)C(C(=O)N1)=C2NC(c3ccccc23)=C4C(=O)NC... -7.564994  \n",
       "248                          CC1=C(C)C(=C(C)C(=C1C)C)C -5.230000  \n",
       "249                                        [K+].[C-]#N  1.043600  \n",
       "\n",
       "[250 rows x 723 columns]"
      ]
     },
     "execution_count": 15,
     "metadata": {},
     "output_type": "execute_result"
    }
   ],
   "source": [
    "df_ol"
   ]
  },
  {
   "cell_type": "code",
   "execution_count": null,
   "metadata": {},
   "outputs": [],
   "source": []
  }
 ],
 "metadata": {
  "kernelspec": {
   "display_name": "Python 3 (ipykernel)",
   "language": "python",
   "name": "python3"
  },
  "language_info": {
   "codemirror_mode": {
    "name": "ipython",
    "version": 3
   },
   "file_extension": ".py",
   "mimetype": "text/x-python",
   "name": "python",
   "nbconvert_exporter": "python",
   "pygments_lexer": "ipython3",
   "version": "3.8.11"
  },
  "vscode": {
   "interpreter": {
    "hash": "4ce49784f22f3da3aa70216827f7fe2183786536047979963708e938746b6c11"
   }
  }
 },
 "nbformat": 4,
 "nbformat_minor": 4
}
