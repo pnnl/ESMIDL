{
 "cells": [
  {
   "cell_type": "code",
   "execution_count": 1,
   "metadata": {},
   "outputs": [],
   "source": [
    "import yaml\n",
    "import matplotlib.pyplot as plt\n",
    "import pandas as pd\n",
    "import numpy as np\n",
    "from sklearn.preprocessing import StandardScaler\n",
    "from doa.utils import create_dataset"
   ]
  },
  {
   "cell_type": "code",
   "execution_count": 2,
   "metadata": {},
   "outputs": [],
   "source": [
    "# Create molecular descriptors"
   ]
  },
  {
   "cell_type": "markdown",
   "metadata": {},
   "source": [
    "We can use Mordred to quickly generate a set of descriptors. We have provides a function in doa/utils to prepare a dataset in \n",
    "the form required by the res of the DoA calculations "
   ]
  },
  {
   "cell_type": "code",
   "execution_count": null,
   "metadata": {},
   "outputs": [],
   "source": [
    "_  = create_dataset(csv_path='sample_data/data.csv', \n",
    "                smiles_column='SMILES',\n",
    "                logs_column='Solubility', \n",
    "                save_path='sample_data/des_data.csv')"
   ]
  },
  {
   "cell_type": "markdown",
   "metadata": {},
   "source": [
    "The descriptors will be saved to 'sample_data/des_data.csv'"
   ]
  },
  {
   "cell_type": "code",
   "execution_count": 4,
   "metadata": {},
   "outputs": [],
   "source": [
    "### Execute the following command to run a large number of ML models to find the prediction errors made for each molecule"
   ]
  },
  {
   "cell_type": "code",
   "execution_count": 5,
   "metadata": {},
   "outputs": [
    {
     "name": "stdout",
     "output_type": "stream",
     "text": [
      "outlier detection using extratrees regression\n",
      "100%|█████████████████████████████████████████| 250/250 [32:56<00:00,  7.90s/it]\n"
     ]
    }
   ],
   "source": [
    "!python ../scripts/run_models.py --config ../scripts/configs/main.yaml --run-id=1"
   ]
  },
  {
   "cell_type": "code",
   "execution_count": 7,
   "metadata": {},
   "outputs": [],
   "source": [
    "# Once completed, we will have \"smiles_error_et_{i}.pkl\" files in the folder specified by \"res_path\" in the configuration file (i.e ../scripts/configs/main.yaml)."
   ]
  },
  {
   "cell_type": "code",
   "execution_count": 8,
   "metadata": {},
   "outputs": [],
   "source": [
    "### Execute the following command for post processing and create the files required for further analysis."
   ]
  },
  {
   "cell_type": "code",
   "execution_count": 2,
   "metadata": {},
   "outputs": [
    {
     "name": "stdout",
     "output_type": "stream",
     "text": [
      "min : 11 mean:  25.0 sdev:  4.869702249624714\n",
      "percent:  0.95\n",
      "percent:  0.9\n",
      "percent:  0.85\n",
      "percent:  0.8\n",
      "percent:  0.75\n",
      "percent:  0.7\n",
      "percent:  0.65\n"
     ]
    }
   ],
   "source": [
    "!python ../scripts/post_process.py  --config ../scripts/configs/main.yaml"
   ]
  },
  {
   "cell_type": "code",
   "execution_count": 4,
   "metadata": {},
   "outputs": [],
   "source": [
    "\n",
    "opt = yaml.load(open('../scripts/configs/main.yaml'), Loader=yaml.FullLoader)\n",
    "from doa.detect import find_olpercent\n",
    "olp_versus_r2, enpls, df = find_olpercent(data_path=opt['data_path'], res_path=opt['res_path'], rerun_threshold_detection=False)\n"
   ]
  },
  {
   "cell_type": "code",
   "execution_count": 5,
   "metadata": {},
   "outputs": [
    {
     "data": {
      "image/png": "[encoded data removed]",
      "text/plain": [
       "<Figure size 432x288 with 1 Axes>"
      ]
     },
     "metadata": {
      "needs_background": "light"
     },
     "output_type": "display_data"
    }
   ],
   "source": [
    "plt.plot(olp_versus_r2.olp, olp_versus_r2.r2,  color='#5D6D7E', marker='o', ls='-', lw=3);\n",
    "# plt.plot(m4.olp, m4.r2, 'o-', color='orange', label='ol-ness sdev away');\n",
    "\n",
    "plt.ylabel(\"R2\", fontsize=14, fontweight='bold')\n",
    "plt.xlabel(\"Outlier Percentage\", fontsize=14, fontweight='bold')\n",
    "plt.xticks(fontsize=10, fontweight='bold');\n",
    "plt.yticks(fontsize=10, fontweight='bold');"
   ]
  },
  {
   "cell_type": "code",
   "execution_count": 7,
   "metadata": {},
   "outputs": [
    {
     "name": "stdout",
     "output_type": "stream",
     "text": [
      "25.0\n",
      "4\n"
     ]
    }
   ],
   "source": [
    "print(olp_versus_r2.loc[np.where((olp_versus_r2.r2>.89))[0][0], 'olp'])\n",
    "th_file_id = olp_versus_r2.loc[np.where((olp_versus_r2.r2>.89))[0][0], 'prolp']\n",
    "print(th_file_id)"
   ]
  },
  {
   "cell_type": "code",
   "execution_count": null,
   "metadata": {},
   "outputs": [],
   "source": []
  }
 ],
 "metadata": {
  "kernelspec": {
   "display_name": "Python 3.8.11 ('esmi38')",
   "language": "python",
   "name": "python3"
  },
  "language_info": {
   "codemirror_mode": {
    "name": "ipython",
    "version": 3
   },
   "file_extension": ".py",
   "mimetype": "text/x-python",
   "name": "python",
   "nbconvert_exporter": "python",
   "pygments_lexer": "ipython3",
   "version": "3.8.11"
  },
  "orig_nbformat": 4,
  "vscode": {
   "interpreter": {
    "hash": "4ce49784f22f3da3aa70216827f7fe2183786536047979963708e938746b6c11"
   }
  }
 },
 "nbformat": 4,
 "nbformat_minor": 2
}
