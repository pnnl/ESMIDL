{
 "cells": [
  {
   "cell_type": "code",
   "execution_count": 5,
   "metadata": {},
   "outputs": [],
   "source": [
    "import yaml\n",
    "import matplotlib.pyplot as plt\n",
    "import pandas as pd\n",
    "import numpy as np\n",
    "from sklearn.preprocessing import StandardScaler\n",
    "from doa.utils import create_dataset\n",
    "import os"
   ]
  },
  {
   "cell_type": "markdown",
   "metadata": {},
   "source": [
    "Here we demonstrate the usage of our method for predictions made by ExtraTreesRegressor models. Our method can be used with any kind of model."
   ]
  },
  {
   "cell_type": "markdown",
   "metadata": {},
   "source": [
    "# 1. Create molecular descriptors"
   ]
  },
  {
   "cell_type": "markdown",
   "metadata": {},
   "source": [
    "We can use Mordred to quickly generate a set of descriptors. We have provides a function in doa/utils to prepare a dataset in \n",
    "the form required by the res of the DoA calculations "
   ]
  },
  {
   "cell_type": "code",
   "execution_count": 42,
   "metadata": {
    "tags": []
   },
   "outputs": [],
   "source": [
    "_  = create_dataset(csv_path='sample_data/data.csv', \n",
    "                smiles_column='SMILES',\n",
    "                logs_column='Solubility', \n",
    "                save_path='sample_data/des_data.csv')"
   ]
  },
  {
   "cell_type": "markdown",
   "metadata": {},
   "source": [
    "The descriptors will be saved to 'sample_data/des_data.csv'. "
   ]
  },
  {
   "cell_type": "markdown",
   "metadata": {},
   "source": [
    "# 2. Outlier detection"
   ]
  },
  {
   "cell_type": "markdown",
   "metadata": {},
   "source": [
    "Now we can run machine learning models to find the errors associated with each molecule. The configuratons are stored in the \"../scripts/configs/main.yaml\" file."
   ]
  },
  {
   "cell_type": "markdown",
   "metadata": {},
   "source": [
    "Execute the following command to run a large number of ML models to find the prediction errors made for each molecule"
   ]
  },
  {
   "cell_type": "code",
   "execution_count": 43,
   "metadata": {
    "tags": []
   },
   "outputs": [],
   "source": [
    "config_path = '../scripts/configs/main.yaml'\n",
    "!python ../scripts/run_models.py --config $config_path  --run-id=1"
   ]
  },
  {
   "cell_type": "markdown",
   "metadata": {},
   "source": [
    "Once completed, we will have \"smiles_error_et_{i}.pkl\" files in the folder specified by \"res_path\" in the configuration file (i.e ../scripts/configs/main.yaml)."
   ]
  },
  {
   "cell_type": "markdown",
   "metadata": {},
   "source": [
    "Next we have to determine how to seperate outliers and inliers. After ordering the molecules in the descending order of the outliernerss, we select n percentage of molecules having the largest outlierness scores as outliers and the others as inliers. We remove the n outliers and using the remaining non outliers, we do cross validated prediction of the target property and obtain the mean prediction accuracies (RMSE, R2). We repeat this process for several n values (0.95 to to 0.65). The following command executes this procedeure."
   ]
  },
  {
   "cell_type": "code",
   "execution_count": 10,
   "metadata": {
    "tags": []
   },
   "outputs": [
    {
     "name": "stdout",
     "output_type": "stream",
     "text": [
      "min : 11 mean:  25.0 sdev:  4.52990066116245\n",
      "percent:  0.95\n",
      "percent:  0.9\n",
      "percent:  0.85\n",
      "percent:  0.8\n",
      "percent:  0.75\n",
      "percent:  0.7\n",
      "percent:  0.65\n"
     ]
    }
   ],
   "source": [
    "!python ../scripts/post_process.py  --config $config_path"
   ]
  },
  {
   "cell_type": "markdown",
   "metadata": {},
   "source": [
    "Using the \"find_olpercent\" function, we can obtain R2 scores corresponding to different n values."
   ]
  },
  {
   "cell_type": "code",
   "execution_count": 11,
   "metadata": {},
   "outputs": [],
   "source": [
    "from doa.detect import find_olpercent\n",
    "opt = yaml.load(open(config_path), Loader=yaml.FullLoader)\n",
    "olp_versus_r2, enpls, df = find_olpercent(data_path=opt['data_path'], res_path=opt['res_path'], \n",
    "                                          rerun_threshold_detection=False)"
   ]
  },
  {
   "cell_type": "markdown",
   "metadata": {},
   "source": [
    "The dataframe \"olp_versus_r2\" gives us the cross validate R2 and RMSE for non outliers when olp percent of outliers are removed. We see that as the outlier percentage (olp) increases, we get better R2, RMSE values for the corresponding inliers."
   ]
  },
  {
   "cell_type": "code",
   "execution_count": 12,
   "metadata": {},
   "outputs": [
    {
     "data": {
      "text/html": [
       "<div>\n",
       "<style scoped>\n",
       "    .dataframe tbody tr th:only-of-type {\n",
       "        vertical-align: middle;\n",
       "    }\n",
       "\n",
       "    .dataframe tbody tr th {\n",
       "        vertical-align: top;\n",
       "    }\n",
       "\n",
       "    .dataframe thead th {\n",
       "        text-align: right;\n",
       "    }\n",
       "</style>\n",
       "<table border=\"1\" class=\"dataframe\">\n",
       "  <thead>\n",
       "    <tr style=\"text-align: right;\">\n",
       "      <th></th>\n",
       "      <th>r2</th>\n",
       "      <th>rmse</th>\n",
       "      <th>olp</th>\n",
       "      <th>prolp</th>\n",
       "    </tr>\n",
       "  </thead>\n",
       "  <tbody>\n",
       "    <tr>\n",
       "      <th>0</th>\n",
       "      <td>0.855391</td>\n",
       "      <td>0.862258</td>\n",
       "      <td>5.0</td>\n",
       "      <td>0</td>\n",
       "    </tr>\n",
       "    <tr>\n",
       "      <th>1</th>\n",
       "      <td>0.875820</td>\n",
       "      <td>0.781190</td>\n",
       "      <td>10.0</td>\n",
       "      <td>1</td>\n",
       "    </tr>\n",
       "    <tr>\n",
       "      <th>2</th>\n",
       "      <td>0.879089</td>\n",
       "      <td>0.747201</td>\n",
       "      <td>15.0</td>\n",
       "      <td>2</td>\n",
       "    </tr>\n",
       "    <tr>\n",
       "      <th>3</th>\n",
       "      <td>0.900009</td>\n",
       "      <td>0.664421</td>\n",
       "      <td>20.0</td>\n",
       "      <td>3</td>\n",
       "    </tr>\n",
       "    <tr>\n",
       "      <th>4</th>\n",
       "      <td>0.906867</td>\n",
       "      <td>0.622902</td>\n",
       "      <td>25.0</td>\n",
       "      <td>4</td>\n",
       "    </tr>\n",
       "    <tr>\n",
       "      <th>5</th>\n",
       "      <td>0.915320</td>\n",
       "      <td>0.592967</td>\n",
       "      <td>30.0</td>\n",
       "      <td>5</td>\n",
       "    </tr>\n",
       "    <tr>\n",
       "      <th>6</th>\n",
       "      <td>0.928350</td>\n",
       "      <td>0.540011</td>\n",
       "      <td>35.0</td>\n",
       "      <td>6</td>\n",
       "    </tr>\n",
       "  </tbody>\n",
       "</table>\n",
       "</div>"
      ],
      "text/plain": [
       "         r2      rmse   olp  prolp\n",
       "0  0.855391  0.862258   5.0      0\n",
       "1  0.875820  0.781190  10.0      1\n",
       "2  0.879089  0.747201  15.0      2\n",
       "3  0.900009  0.664421  20.0      3\n",
       "4  0.906867  0.622902  25.0      4\n",
       "5  0.915320  0.592967  30.0      5\n",
       "6  0.928350  0.540011  35.0      6"
      ]
     },
     "execution_count": 12,
     "metadata": {},
     "output_type": "execute_result"
    }
   ],
   "source": [
    "olp_versus_r2"
   ]
  },
  {
   "cell_type": "markdown",
   "metadata": {},
   "source": [
    "In the {res_path}/ol_thresh_res directory the outliers and inliners for each of the olp value are saved."
   ]
  },
  {
   "cell_type": "code",
   "execution_count": 37,
   "metadata": {},
   "outputs": [
    {
     "data": {
      "image/png": "[encoded data removed]",
      "text/plain": [
       "<Figure size 432x288 with 1 Axes>"
      ]
     },
     "metadata": {
      "needs_background": "light"
     },
     "output_type": "display_data"
    }
   ],
   "source": [
    "plt.plot(olp_versus_r2.olp, olp_versus_r2.r2,  color='#5D6D7E', marker='o', ls='-', lw=3);\n",
    "\n",
    "plt.ylabel(\"R2\", fontsize=14, fontweight='bold')\n",
    "plt.xlabel(\"Outlier Percentage Removed\", fontsize=14, fontweight='bold')\n",
    "plt.xticks(fontsize=10, fontweight='bold');\n",
    "plt.yticks(fontsize=10, fontweight='bold');"
   ]
  },
  {
   "cell_type": "markdown",
   "metadata": {},
   "source": [
    "Now we have to determine which R2 score value should be used to seperate outliers and inliers. The molecules giving a R2 score greater than this value will be considered as non outliers and the others will be outliers."
   ]
  },
  {
   "cell_type": "code",
   "execution_count": 38,
   "metadata": {},
   "outputs": [],
   "source": [
    "r2_threshold = 0.90 # we select 0.90 as the R2 threshold."
   ]
  },
  {
   "cell_type": "code",
   "execution_count": 15,
   "metadata": {},
   "outputs": [
    {
     "name": "stdout",
     "output_type": "stream",
     "text": [
      "20.0\n",
      "3\n"
     ]
    }
   ],
   "source": [
    "print(olp_versus_r2.loc[np.where((olp_versus_r2.r2> r2_threshold ))[0][0], 'olp'])\n",
    "th_file_id = olp_versus_r2.loc[np.where((olp_versus_r2.r2> r2_threshold ))[0][0], 'prolp']\n",
    "print(th_file_id)"
   ]
  },
  {
   "cell_type": "markdown",
   "metadata": {},
   "source": [
    "So, using 0.90 as the R2 results in 20% of outleirs which correspond to out 4th calculation (calc_id = 3 in the \"olp_versus_r2\" table)."
   ]
  },
  {
   "cell_type": "markdown",
   "metadata": {},
   "source": [
    "We can use save_ols function to save our final outliers and inliers. The arguments to this function are {res_path} and the calculation id which is 3 in our case."
   ]
  },
  {
   "cell_type": "code",
   "execution_count": 16,
   "metadata": {},
   "outputs": [],
   "source": [
    "from doa.utils import save_ols"
   ]
  },
  {
   "cell_type": "code",
   "execution_count": 17,
   "metadata": {},
   "outputs": [],
   "source": [
    "save_ols(opt['res_path'], th_file_id)"
   ]
  },
  {
   "cell_type": "markdown",
   "metadata": {},
   "source": [
    "Now we are ready to find the domains of applicability. What are the domain boundaries and what are the expected prediction accurcies for each domain."
   ]
  },
  {
   "cell_type": "markdown",
   "metadata": {},
   "source": [
    "# 3. Feature based filtering"
   ]
  },
  {
   "cell_type": "markdown",
   "metadata": {},
   "source": [
    "### Get the DoA table"
   ]
  },
  {
   "cell_type": "markdown",
   "metadata": {},
   "source": [
    "To get the DoA table we need \n",
    "\n",
    "<ol>\n",
    "<li>the errors made by molecule in the train set (saved in {res_path}/errors.csv ).</li>\n",
    "<li>Seleceted outliers (saved in {res_path}/outliers.csv ) and </li>\n",
    "<li>Inliers (saved in {res_path}/non_outliers.csv ).</li>\n",
    "<li>Data used to obtain prediction error which are at {data_path}  </li>\n",
    "</ol>"
   ]
  },
  {
   "cell_type": "code",
   "execution_count": 41,
   "metadata": {},
   "outputs": [],
   "source": [
    "from doa import doa"
   ]
  },
  {
   "cell_type": "code",
   "execution_count": 22,
   "metadata": {},
   "outputs": [],
   "source": [
    "errors = pd.read_csv('results/runs/errors.csv')\n",
    "df_ol = pd.read_csv(os.path.join(opt['res_path'], 'outliers.csv'))\n",
    "df_nol = pd.read_csv(os.path.join(opt['res_path'], 'non_outliers.csv'))\n",
    "all_data = pd.read_csv(opt['data_path'])"
   ]
  },
  {
   "cell_type": "markdown",
   "metadata": {},
   "source": [
    "The following cell generates the DoA table."
   ]
  },
  {
   "cell_type": "code",
   "execution_count": 23,
   "metadata": {},
   "outputs": [
    {
     "name": "stderr",
     "output_type": "stream",
     "text": [
      "/opt/anaconda3/envs/doa/lib/python3.8/site-packages/doa/doa.py:171: FutureWarning: In a future version, `df.iloc[:, i] = newvals` will attempt to set the values inplace instead of always setting a new array. To retain the old behavior, use either `df[df.columns[i]] = newvals` or, if columns are non-unique, `df.isetitem(i, newvals)`\n",
      "  self.df_ref_all.loc[:, self.cols] = self.df_ref_all.loc[:, self.cols].astype(float)\n",
      "100%|█████████████████████████████████████████████████████████████████████████████| 721/721 [00:00<00:00, 1297.94it/s]\n"
     ]
    },
    {
     "name": "stdout",
     "output_type": "stream",
     "text": [
      "using IQR from definition\n"
     ]
    },
    {
     "name": "stderr",
     "output_type": "stream",
     "text": [
      "100%|█████████████████████████████████████████████████████████████████████████████| 353/353 [00:00<00:00, 5717.47it/s]\n",
      "100%|█████████████████████████████████████████████████████████████████████████████| 353/353 [00:00<00:00, 1257.68it/s]\n",
      "100%|██████████████████████████████████████████████████████████████████████████████| 174/174 [00:00<00:00, 852.64it/s]\n"
     ]
    }
   ],
   "source": [
    "doa_obj = doa.find_th(ol=df_ol, nol=df_nol, all_data=all_data, enpls=errors)\n",
    "# remove features that are more than 0.95 correlated\n",
    "new_th = doa_obj.remove_corr_from_propth(0.95)\n",
    "# get the domain of applicability tables\n",
    "doa_orig, doa_olness = doa_obj.get_doa_table()\n",
    "doa_obj.save_data(opt['res_path'])\n",
    "doa_olness['all_out_pcnt'] = doa_olness['#ols']/all_data.shape[0]"
   ]
  },
  {
   "cell_type": "code",
   "execution_count": 27,
   "metadata": {},
   "outputs": [
    {
     "name": "stdout",
     "output_type": "stream",
     "text": [
      "| prop        |    threshold | direction   |   all_out_pcnt |\n",
      "|:------------|-------------:|:------------|---------------:|\n",
      "| IC0         |     0.657481 | >=          |          0.002 |\n",
      "| IC1         |     0.814787 | >=          |          0.004 |\n",
      "| Mpe         |     0.86574  | >=          |          0.003 |\n",
      "| IC2         |     1.60164  | >=          |          0.023 |\n",
      "| IC3         |     1.81215  | >=          |          0.028 |\n",
      "| AATS0dv     |    16.6811   | <=          |          0.036 |\n",
      "| AATSC0dv    |     7.06984  | <=          |          0.031 |\n",
      "| bpol        |    47.9571   | <=          |          0.048 |\n",
      "| SRW02       |     1.96951  | >=          |          0.031 |\n",
      "| CIC0        |     1.09343  | >=          |          0.016 |\n",
      "| Mi          |     1.07587  | >=          |          0.028 |\n",
      "| ATSC1p      |    -2.37158  | >=          |          0.054 |\n",
      "| SaaCH       |    22.3919   | <=          |          0.025 |\n",
      "| ATSC1m      |  -178.072    | >=          |          0.027 |\n",
      "| JGT10       |     0.810467 | <=          |          0.006 |\n",
      "| EState_VSA4 |    40.7088   | <=          |          0.026 |\n",
      "| TIC5        |   331.085    | <=          |          0.063 |\n",
      "| C3SP2       |     5        | <=          |          0.02  |\n",
      "| ATS7i       | 28419.1      | <=          |          0.05  |\n",
      "| ATS0p       |   117.64     | <=          |          0.089 |\n",
      "| Mv          |     0.874254 | <=          |          0.044 |\n"
     ]
    }
   ],
   "source": [
    "print(doa_olness.loc[:20, ['prop', 'threshold', 'direction', 'all_out_pcnt']].to_markdown(index=False))"
   ]
  },
  {
   "cell_type": "markdown",
   "metadata": {},
   "source": [
    "### Run descriptor based filtering"
   ]
  },
  {
   "cell_type": "code",
   "execution_count": 28,
   "metadata": {},
   "outputs": [],
   "source": [
    "train = pd.read_csv(opt['data_path'])\n",
    "test = pd.read_csv('sample_data/test.csv')"
   ]
  },
  {
   "cell_type": "code",
   "execution_count": 29,
   "metadata": {},
   "outputs": [],
   "source": [
    "from doa.fbf import fbf_results"
   ]
  },
  {
   "cell_type": "code",
   "execution_count": 32,
   "metadata": {},
   "outputs": [
    {
     "name": "stderr",
     "output_type": "stream",
     "text": [
      "100%|███████████████████████████████████████████████████████████████████████████████| 174/174 [00:02<00:00, 63.44it/s]\n"
     ]
    }
   ],
   "source": [
    "# create the object\n",
    "fbf_obj = fbf_results(df_ref=train, df_train=train, df_test=test, save_path=opt['res_path'])\n",
    "# train a model using train set\n",
    "model, scaler, features = fbf_obj.get_model_scaler()\n",
    "# do feature based filtering\n",
    "doa_results, all_outsmiles, ol_test_smiles = fbf_obj.get_doa_results(doa=doa_olness, r2_th=.95)\n",
    "doa_results['n_test_percent'] = 100*doa_results['n_test_ols']/test.shape[0]"
   ]
  },
  {
   "cell_type": "code",
   "execution_count": 33,
   "metadata": {},
   "outputs": [
    {
     "data": {
      "image/png": "[encoded data removed]",
      "text/plain": [
       "<Figure size 576x360 with 1 Axes>"
      ]
     },
     "metadata": {
      "needs_background": "light"
     },
     "output_type": "display_data"
    }
   ],
   "source": [
    "plt.figure(figsize = (8,5));\n",
    "plt.plot(doa_results.n_test_percent, doa_results.rmse,  color='#5499C7', ls='-', marker='o', label = 'Domain based Filtering');\n",
    "plt.xlabel('Percentage of molecules removed from test set', fontsize=16, fontweight='bold');\n",
    "plt.ylabel('RMSE', fontsize=16, fontweight='bold');"
   ]
  },
  {
   "cell_type": "code",
   "execution_count": null,
   "metadata": {},
   "outputs": [],
   "source": []
  }
 ],
 "metadata": {
  "kernelspec": {
   "display_name": "doa",
   "language": "python",
   "name": "doa"
  },
  "language_info": {
   "codemirror_mode": {
    "name": "ipython",
    "version": 3
   },
   "file_extension": ".py",
   "mimetype": "text/x-python",
   "name": "python",
   "nbconvert_exporter": "python",
   "pygments_lexer": "ipython3",
   "version": "3.8.15"
  },
  "vscode": {
   "interpreter": {
    "hash": "4ce49784f22f3da3aa70216827f7fe2183786536047979963708e938746b6c11"
   }
  }
 },
 "nbformat": 4,
 "nbformat_minor": 4
}
